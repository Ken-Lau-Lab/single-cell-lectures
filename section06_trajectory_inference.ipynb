{
 "cells": [
  {
   "cell_type": "markdown",
   "metadata": {
    "colab_type": "text",
    "id": "view-in-github"
   },
   "source": [
    "<a href=\"https://colab.research.google.com/github/Ken-Lau-Lab/single-cell-lectures/blob/main/section06_trajectory_inference.ipynb\" target=\"_parent\"><img src=\"https://colab.research.google.com/assets/colab-badge.svg\" alt=\"Open In Colab\"/></a>"
   ]
  },
  {
   "cell_type": "markdown",
   "metadata": {},
   "source": [
    "## __Section 6:__ Trajectory Inference\n",
    "\n",
    "March 01, 2022"
   ]
  },
  {
   "cell_type": "markdown",
   "metadata": {
    "id": "assj2ooks87S",
    "tags": []
   },
   "source": [
    "## Phase 0: Downloading datasets and installing packages"
   ]
  },
  {
   "cell_type": "code",
   "execution_count": null,
   "metadata": {},
   "outputs": [],
   "source": [
    "!git clone git://github.com/Ken-Lau-Lab/single-cell-lectures  # for Colab users"
   ]
  },
  {
   "cell_type": "code",
   "execution_count": null,
   "metadata": {
    "colab": {
     "base_uri": "https://localhost:8080/",
     "height": 139
    },
    "id": "0HFeXg4VG8Lu",
    "outputId": "894ad745-7315-4bec-e63e-45da7ae9899d"
   },
   "outputs": [],
   "source": [
    "!git clone git://github.com/KenLauLab/pCreode"
   ]
  },
  {
   "cell_type": "code",
   "execution_count": null,
   "metadata": {
    "colab": {
     "base_uri": "https://localhost:8080/",
     "height": 1000
    },
    "id": "jTRRyEqEHC2b",
    "outputId": "eb95f4da-b386-435f-df59-db8fc9249940"
   },
   "outputs": [],
   "source": [
    "# installing pcreode, our trajectory inference algorithm, Herring et al. 2018\n",
    "# (https://www.sciencedirect.com/science/article/pii/S2405471217304490)\n",
    "!pip install pCreode/."
   ]
  },
  {
   "cell_type": "code",
   "execution_count": null,
   "metadata": {},
   "outputs": [],
   "source": [
    "!pip install numpy  # for Colab users\n",
    "!pip install pandas  # for Colab users\n",
    "!pip install scanpy  # for Colab users\n",
    "!pip install leidenalg  # for Colab users\n",
    "# software library for graph theoretic representations of the data\n",
    "!pip install python-igraph==0.7.1.post6"
   ]
  },
  {
   "cell_type": "markdown",
   "metadata": {
    "id": "36bt5wMqtGJn"
   },
   "source": [
    "## Phase 0: Loading installed python packages and datasets into the environment"
   ]
  },
  {
   "cell_type": "code",
   "execution_count": null,
   "metadata": {
    "id": "PsgTbm7CHhHU"
   },
   "outputs": [],
   "source": [
    "import scanpy as sc\n",
    "import pandas as pd \n",
    "import numpy as np\n",
    "import pcreode\n",
    "import matplotlib.pylab as plt"
   ]
  },
  {
   "cell_type": "code",
   "execution_count": null,
   "metadata": {
    "colab": {
     "base_uri": "https://localhost:8080/",
     "height": 34
    },
    "id": "aItoHnPMHjJb",
    "outputId": "62ab9556-6622-45b8-afd4-974ecbf77228"
   },
   "outputs": [],
   "source": [
    "myeloid_adata = sc.read_h5ad(\"pCreode/data/Myeloid_Raw_Normalized_Transformed.h5ad\")\n",
    "myeloid_adata"
   ]
  },
  {
   "cell_type": "markdown",
   "metadata": {
    "id": "h47fwMTUvZ-C"
   },
   "source": [
    "The pCreode algorithm maps the topology of the cellular coordinates in PCA transformed gene expression space."
   ]
  },
  {
   "cell_type": "markdown",
   "metadata": {
    "id": "llFTdA35vMjF"
   },
   "source": [
    "![alt text](https://raw.githubusercontent.com/bobchen1701/SCA_Course_SP_2020/master/Screen%20Shot%202020-03-03%20at%205.29.13%20PM.png)"
   ]
  },
  {
   "cell_type": "markdown",
   "metadata": {
    "id": "a8l872jYudwn"
   },
   "source": [
    "## Phase 1: Preprocessing"
   ]
  },
  {
   "cell_type": "code",
   "execution_count": null,
   "metadata": {
    "colab": {
     "base_uri": "https://localhost:8080/",
     "height": 283
    },
    "id": "kf5mQvg9Hmrq",
    "outputId": "3e578a11-3723-4895-bcfe-152047b89c00"
   },
   "outputs": [],
   "source": [
    "#we feature select using highly_variable_genes to maximize the signal to noise ratio\n",
    "sc.pp.highly_variable_genes(myeloid_adata,min_mean=0.1,min_disp=0)\n",
    "sc.pl.highly_variable_genes(myeloid_adata)"
   ]
  },
  {
   "cell_type": "code",
   "execution_count": null,
   "metadata": {
    "colab": {
     "base_uri": "https://localhost:8080/",
     "height": 34
    },
    "id": "SrjTi8bTwHop",
    "outputId": "903cc348-953f-4223-dbae-6b824680bf59"
   },
   "outputs": [],
   "source": [
    "myeloid_adata.var.highly_variable.sum()"
   ]
  },
  {
   "cell_type": "code",
   "execution_count": null,
   "metadata": {
    "colab": {
     "base_uri": "https://localhost:8080/",
     "height": 283
    },
    "id": "NnZ-hVnTHs8U",
    "outputId": "72388830-00db-44c9-bff4-61c7065b34e0"
   },
   "outputs": [],
   "source": [
    "#we can perform the pca with the top 558 most highly variable genes. this allows us to visualize the variation in the gene expression of single cells in a more interpretable number of dimensions\n",
    "sc.pp.pca(myeloid_adata, n_comps = 20,use_highly_variable=True)\n",
    "sc.pl.pca(myeloid_adata,components=['1,2','1,3','2,3'],color='CD34')"
   ]
  },
  {
   "cell_type": "code",
   "execution_count": null,
   "metadata": {
    "colab": {
     "base_uri": "https://localhost:8080/",
     "height": 300
    },
    "id": "GxO5OpGXHuwN",
    "outputId": "d786dee5-3332-41cc-db27-2f2a973f78b7"
   },
   "outputs": [],
   "source": [
    "sc.pl.pca_variance_ratio(myeloid_adata) #note that the vast majority of the variance in the data is captured by the first 10 principal components or so"
   ]
  },
  {
   "cell_type": "code",
   "execution_count": null,
   "metadata": {
    "colab": {
     "base_uri": "https://localhost:8080/",
     "height": 283
    },
    "id": "dt7owmOSH159",
    "outputId": "a8a37d0b-5725-4963-b192-6f660c82e13b"
   },
   "outputs": [],
   "source": [
    "sc.pl.pca(myeloid_adata,components=['1,2','2,3','3,4','4,5'],color='CD34')"
   ]
  },
  {
   "cell_type": "code",
   "execution_count": null,
   "metadata": {
    "id": "4FoNW7gDH4zf"
   },
   "outputs": [],
   "source": [
    "pca_reduced_data = myeloid_adata.obsm['X_pca'][:,:3] \n",
    "#Here we simply subset the myeloid_adata PCA observation matrix to its first 3 components using standard array subsetting conventions"
   ]
  },
  {
   "cell_type": "markdown",
   "metadata": {
    "id": "sn8jv9BJxJmd"
   },
   "source": [
    "## Phase 1: Density-weighted K-nearest neighbors graph parameter optimization and construction\n",
    "\n",
    "We must first determine the radius in which to draw edges between nodes in this graph "
   ]
  },
  {
   "cell_type": "code",
   "execution_count": null,
   "metadata": {
    "colab": {
     "base_uri": "https://localhost:8080/",
     "height": 405
    },
    "id": "Xnbq4OjgH6dF",
    "outputId": "1b78b7da-1523-4c90-80a2-e740a43deb10"
   },
   "outputs": [],
   "source": [
    "dens = pcreode.Density( pca_reduced_data ) #input the 3 principal components \n",
    "best_guess = dens.nearest_neighbor_hist() #look at the distribution of distances between cells in that space\n",
    "#best automatic guess is 0.73"
   ]
  },
  {
   "cell_type": "markdown",
   "metadata": {
    "id": "907Qu-81xzMz"
   },
   "source": [
    "Example of a radius set too low"
   ]
  },
  {
   "cell_type": "code",
   "execution_count": null,
   "metadata": {
    "colab": {
     "base_uri": "https://localhost:8080/",
     "height": 423
    },
    "id": "vGdakIaIH9Bw",
    "outputId": "3da76072-01c1-4067-ba2e-03f7e81ca108"
   },
   "outputs": [],
   "source": [
    "myeloid_adata.obs['Density'] = dens.get_density( radius=0.4) #set myeloid_adata 'Density' observation, or the number of neighbors which fall within the radius search constraints\n",
    "dens.density_hist( n_bins=50) #the distribution is skewed towards a low density graph, which is unable to incorporate more global similarities"
   ]
  },
  {
   "cell_type": "code",
   "execution_count": null,
   "metadata": {
    "colab": {
     "base_uri": "https://localhost:8080/",
     "height": 283
    },
    "id": "qNuz-aV6H_qs",
    "outputId": "c35cdf09-3cb7-4044-fe91-b0910388f293"
   },
   "outputs": [],
   "source": [
    "sc.pl.pca(myeloid_adata,components=['1,2','2,3'],color = 'Density') #overlay each cell's Density value onto a three principal components\n",
    "#there are regions in this overlay that are very low density, which is undesireable"
   ]
  },
  {
   "cell_type": "markdown",
   "metadata": {
    "id": "ahwQQvLjz_HK"
   },
   "source": [
    "Example of radius set too high"
   ]
  },
  {
   "cell_type": "code",
   "execution_count": null,
   "metadata": {
    "colab": {
     "base_uri": "https://localhost:8080/",
     "height": 423
    },
    "id": "u-DKTEnPIDIp",
    "outputId": "1f6f0646-4bc1-48e6-dbb4-002dbd26a37d"
   },
   "outputs": [],
   "source": [
    "myeloid_adata.obs['Density'] = dens.get_density( radius=3) #set myeloid_adata 'Density' observation\n",
    "dens.density_hist( n_bins=100)"
   ]
  },
  {
   "cell_type": "code",
   "execution_count": null,
   "metadata": {
    "colab": {
     "base_uri": "https://localhost:8080/",
     "height": 283
    },
    "id": "wSNbeEsFIEat",
    "outputId": "5232ec8a-16cc-44f4-e484-b6bdb1ccd2c8"
   },
   "outputs": [],
   "source": [
    "sc.pl.pca(myeloid_adata,components=['1,2','2,3'],color = 'Density')  #overlay each cell's Density value onto a three principal components\n",
    "#the density seems to become an overlay that doesn't consider the local structures and becomes more of an overall representation of where the \"center\" of the graph is"
   ]
  },
  {
   "cell_type": "markdown",
   "metadata": {
    "id": "0bexZdVh0N47"
   },
   "source": [
    "Example of \"just right\" radius"
   ]
  },
  {
   "cell_type": "code",
   "execution_count": null,
   "metadata": {
    "colab": {
     "base_uri": "https://localhost:8080/",
     "height": 423
    },
    "id": "xLOQlbmTIHtT",
    "outputId": "ce689b2c-01e8-42e3-beff-f2052d7d8dae"
   },
   "outputs": [],
   "source": [
    "myeloid_adata.obs['Density'] = dens.get_density( radius=1) #set myeloid_adata 'Density' observation\n",
    "dens.density_hist( n_bins=100)"
   ]
  },
  {
   "cell_type": "code",
   "execution_count": null,
   "metadata": {
    "colab": {
     "base_uri": "https://localhost:8080/",
     "height": 283
    },
    "id": "A3U5mdbLIJF7",
    "outputId": "793d4f3e-3b52-457d-b31c-ec8de83648c6"
   },
   "outputs": [],
   "source": [
    "sc.pl.pca(myeloid_adata,components=['1,2','2,3'],color = 'Density')  #overlay each cell's Density value onto a three principal components\n",
    "#this is pretty good since theres a fairly symmetric distribution of densities"
   ]
  },
  {
   "cell_type": "markdown",
   "metadata": {
    "id": "uORGbDqI0aQg"
   },
   "source": [
    "## Phase 1: Downsampling and noise reduction\n",
    "\n",
    "Here we determine the values used for the noise and target parameters."
   ]
  },
  {
   "cell_type": "code",
   "execution_count": null,
   "metadata": {
    "id": "g3pi11ctIKyU"
   },
   "outputs": [],
   "source": [
    "noise = 8 #noise cutoff based on density value\n",
    "target = 20 #target downsampling proportion"
   ]
  },
  {
   "cell_type": "code",
   "execution_count": null,
   "metadata": {
    "colab": {
     "base_uri": "https://localhost:8080/",
     "height": 34
    },
    "id": "Ri8MOM-gIMX9",
    "outputId": "112095a5-c79d-4f55-d4d9-46809f2a2c4d"
   },
   "outputs": [],
   "source": [
    "downed, downed_ind = pcreode.Down_Sample( pca_reduced_data, myeloid_adata.obs['Density'], noise, target)"
   ]
  },
  {
   "cell_type": "code",
   "execution_count": null,
   "metadata": {
    "colab": {
     "base_uri": "https://localhost:8080/",
     "height": 283
    },
    "id": "skkQRmmUIOQH",
    "outputId": "9c11bc9e-4226-4402-ce09-736148be2e1c"
   },
   "outputs": [],
   "source": [
    "sc.pl.pca(myeloid_adata[downed_ind],components=['1,2','2,3'],color = 'Density')  #density downsampled"
   ]
  },
  {
   "cell_type": "markdown",
   "metadata": {
    "id": "70TVG1Fs2N2x"
   },
   "source": [
    "## Phase 2-3: Running pCreode using the above determined parameters and PCA"
   ]
  },
  {
   "cell_type": "code",
   "execution_count": null,
   "metadata": {
    "id": "Za9R7jBmIPTx"
   },
   "outputs": [],
   "source": [
    "file_path = \"Output/\""
   ]
  },
  {
   "cell_type": "code",
   "execution_count": null,
   "metadata": {
    "colab": {
     "base_uri": "https://localhost:8080/",
     "height": 34
    },
    "id": "8TsDYAtVIWYF",
    "outputId": "96543a1f-b6b9-490e-b314-d915c92165e9"
   },
   "outputs": [],
   "source": [
    "!mkdir Output"
   ]
  },
  {
   "cell_type": "code",
   "execution_count": null,
   "metadata": {
    "colab": {
     "base_uri": "https://localhost:8080/",
     "height": 399
    },
    "id": "dcb-bmDzISj3",
    "outputId": "8dc86510-fcee-4ae4-f994-b754b944ab19"
   },
   "outputs": [],
   "source": [
    "out_graph, out_ids = pcreode.pCreode( data=pca_reduced_data, density=np.array(myeloid_adata.obs['Density']), noise=noise, \n",
    "                                      target=target, file_path=file_path, num_runs=3)"
   ]
  },
  {
   "cell_type": "markdown",
   "metadata": {
    "id": "OBElXBXS2fvJ"
   },
   "source": [
    "## Phase 4: Scoring each pCreode graph"
   ]
  },
  {
   "cell_type": "code",
   "execution_count": null,
   "metadata": {
    "colab": {
     "base_uri": "https://localhost:8080/",
     "height": 69
    },
    "id": "TjAxr8FsIUM-",
    "outputId": "9926d8a8-d596-4cdd-afe0-212987d38867"
   },
   "outputs": [],
   "source": [
    "graph_ranks = pcreode.pCreode_Scoring( data=pca_reduced_data, file_path=file_path, num_graphs=3)"
   ]
  },
  {
   "cell_type": "code",
   "execution_count": null,
   "metadata": {
    "id": "g69vdf4sIdXk"
   },
   "outputs": [],
   "source": [
    "analysis = pcreode.Analysis( file_path=file_path, graph_id=graph_ranks[0], data=pca_reduced_data, density=np.array(myeloid_adata.obs['Density']), noise=noise)"
   ]
  },
  {
   "cell_type": "code",
   "execution_count": null,
   "metadata": {
    "id": "Ql3dPcrBIh9q"
   },
   "outputs": [],
   "source": [
    "seed=5656"
   ]
  },
  {
   "cell_type": "code",
   "execution_count": null,
   "metadata": {
    "colab": {
     "base_uri": "https://localhost:8080/",
     "height": 617
    },
    "id": "-ZO2HqF9IjfL",
    "outputId": "c4ee46cc-9368-4964-b821-36b950474e0d"
   },
   "outputs": [],
   "source": [
    "analysis.plot_save_graph( seed=seed, overlay=pd.Series(myeloid_adata.obs_vector('ELANE')), file_out='ELANE', upper_range=1.25,node_label_size=25)"
   ]
  },
  {
   "cell_type": "code",
   "execution_count": null,
   "metadata": {
    "colab": {
     "base_uri": "https://localhost:8080/",
     "height": 617
    },
    "id": "f68PVA_K3TAR",
    "outputId": "af8cc75a-897c-41e1-bca1-7e0fdaf4917e"
   },
   "outputs": [],
   "source": [
    "analysis.plot_save_graph( seed=seed, overlay=pd.Series(myeloid_adata.obs_vector('CD34')), file_out='CD34', upper_range=3,node_label_size=25)"
   ]
  },
  {
   "cell_type": "code",
   "execution_count": null,
   "metadata": {
    "colab": {
     "base_uri": "https://localhost:8080/",
     "height": 734
    },
    "id": "DCQ6oH1AIlbH",
    "outputId": "bc17f45d-ac49-4d3f-999c-c94f651c3600"
   },
   "outputs": [],
   "source": [
    "analysis.plot_analyte_dynamics( pd.Series(myeloid_adata.obs_vector('ELANE')), 2) #2 is the root due to prior knowledge of cd34 expression"
   ]
  }
 ],
 "metadata": {
  "colab": {
   "collapsed_sections": [],
   "include_colab_link": true,
   "name": "pCreode Tutorial",
   "provenance": []
  },
  "kernelspec": {
   "display_name": "Python 3",
   "language": "python",
   "name": "python3"
  },
  "language_info": {
   "codemirror_mode": {
    "name": "ipython",
    "version": 3
   },
   "file_extension": ".py",
   "mimetype": "text/x-python",
   "name": "python",
   "nbconvert_exporter": "python",
   "pygments_lexer": "ipython3",
   "version": "3.8.5"
  }
 },
 "nbformat": 4,
 "nbformat_minor": 4
}
