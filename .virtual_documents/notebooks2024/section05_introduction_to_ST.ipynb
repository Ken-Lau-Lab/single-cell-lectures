








## import libraries first
! pip install scanpy
! pip install squidpy



import squidpy as sq
import scanpy as sc





adata = sc.datasets.visium_sge(sample_id= "V1_Human_Lymph_Node")
adata.var_names_make_unique()





adata








sc.pl.spatial(adata, color = ['CCR7','CR2'])

## Do you notice the expression is localized to certain areas of the tissue?





! curl -L -o mouse_data.zip https://www.dropbox.com/scl/fo/aeom1yi6lyedahg2ikqwj/h?rlkey=9qfauqk0dciahce1ltdsknzuz&dl=0


! unzip -d mouse_data/ mouse_data.zip


adata = sq.read.visium("mouse_data/", counts_file= "CytAssist_11mm_FFPE_Mouse_Embryo_filtered_feature_bc_matrix.h5") ## we used squidpy to read the data but scanpy can be used as well. 


adata.var_names_make_unique()





sc.pl.spatial(adata, color = ["Sox9", "Sox2"], cmap = "rainbow")

















sc.pp.normalize_total(adata, inplace=True)
sc.pp.log1p(adata)
sc.pp.highly_variable_genes(adata, flavor="seurat", n_top_genes=2000)


sc.pp.pca(adata)
sc.pp.neighbors(adata)
sc.tl.umap(adata)
sc.tl.leiden(adata, key_added="clusters")


sc.pl.umap(adata, color=["clusters"], wspace=0.4)


sc.pl.spatial(adata, color = 'clusters')
