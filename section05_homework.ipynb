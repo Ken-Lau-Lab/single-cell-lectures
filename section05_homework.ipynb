{
 "cells": [
  {
   "cell_type": "markdown",
   "metadata": {},
   "source": [
    "<a href=\"https://colab.research.google.com/github/Ken-Lau-Lab/single-cell-lectures/blob/main/section04_homework.ipynb\" target=\"_parent\"><img src=\"https://colab.research.google.com/assets/colab-badge.svg\" alt=\"Open In Colab\"/></a>"
   ]
  },
  {
   "cell_type": "markdown",
   "metadata": {
    "tags": []
   },
   "source": [
    "## __Section 4:__ Clustering & Differential Expression Homework\n",
    "\n",
    "March 1, 2022"
   ]
  },
  {
   "cell_type": "markdown",
   "metadata": {},
   "source": [
    "---"
   ]
  },
  {
   "cell_type": "code",
   "execution_count": null,
   "metadata": {},
   "outputs": [],
   "source": [
    "!git clone git://github.com/Ken-Lau-Lab/single-cell-lectures  # for Colab users\n",
    "!pip install scanpy  # for Colab users\n",
    "!pip install leidenalg  # for Colab users\n",
    "!pip install scikit-learn # for Colab users\n",
    "!cp -r single-cell-lectures/data/ .  # for Colab users"
   ]
  },
  {
   "cell_type": "code",
   "execution_count": null,
   "metadata": {},
   "outputs": [],
   "source": [
    "%env PYTHONHASHSEED=0\n",
    "import scanpy as sc; sc.settings.verbosity = 3  # Set scanpy verbosity to 3 for in depth function run information\n",
    "import numpy as np\n",
    "import random; random.seed(22)\n",
    "from sklearn.preprocessing import normalize\n",
    "np.random.seed(22)"
   ]
  },
  {
   "cell_type": "markdown",
   "metadata": {},
   "source": [
    "---\n",
    "#### Import peripheral blood mononuclear cells (PBMC) dataset.  This has already been **filtered** and **feature-selected**.  Your assignment is to **cluster** and create a **UMAP embedding** of the cells, identifying the constituent cell types by their **differentially expressed genes**."
   ]
  },
  {
   "cell_type": "code",
   "execution_count": null,
   "metadata": {},
   "outputs": [],
   "source": [
    "adata = sc.read(\"data/PBMC_3k_small.h5ad\") ; adata"
   ]
  },
  {
   "cell_type": "markdown",
   "metadata": {},
   "source": [
    "#### Below, I've included some code snippets that we used during the lecture for processing.\n",
    "\n",
    "#### We don't need to worry about mitochondrial counts or cell cycle phase inference for this exercise."
   ]
  },
  {
   "cell_type": "code",
   "execution_count": null,
   "metadata": {},
   "outputs": [],
   "source": [
    "# let's first define a custom function that operates on AnnData objects\n",
    "def arcsinh_norm(adata, layer=None, norm=\"l1\", scale=1000):\n",
    "    \"\"\"\n",
    "    return arcsinh-normalized values for each element in anndata counts matrix\n",
    "    l1 normalization (sc.pp.normalize_total) should be performed before this transformation\n",
    "        adata = AnnData object\n",
    "        layer = name of lauer to perform arcsinh-normalization on. if None, use AnnData.X\n",
    "        norm = normalization strategy prior to Log2 transform.\n",
    "            None: do not normalize data\n",
    "            'l1': divide each count by sum of counts for each cell\n",
    "            'l2': divide each count by sqrt of sum of squares of counts for cell\n",
    "        scale = factor to scale normalized counts to; default 1000\n",
    "    \"\"\"\n",
    "    if layer is None:\n",
    "        mat = adata.X\n",
    "    else:\n",
    "        mat = adata.layers[layer]\n",
    "\n",
    "    adata.layers[\"arcsinh_norm\"] = np.arcsinh(normalize(mat, axis=1, norm=norm) * scale)"
   ]
  },
  {
   "cell_type": "code",
   "execution_count": null,
   "metadata": {},
   "outputs": [],
   "source": [
    "# preprocess AnnData for downstream dimensionality reduction\n",
    "adata.layers[\"raw_counts\"] = adata.X.copy()  # save raw counts in layer\n",
    "arcsinh_norm(adata, layer=\"raw_counts\", norm=\"l1\", scale=1000)  # arcsinh-transform normalized counts and add to .layers['arcsinh_norm']\n",
    "adata.X = adata.layers[\"arcsinh_norm\"].copy()  # set normalized counts as .X slot in scanpy object"
   ]
  },
  {
   "cell_type": "code",
   "execution_count": null,
   "metadata": {},
   "outputs": [],
   "source": [
    "sc.tl.pca(adata, n_comps=50, random_state=0, use_highly_variable=False)  # perform 50-component PCA on our feature-selected dataset\n",
    "sc.pl.pca_overview(\n",
    "    adata,\n",
    "    components=[\"1,2\",\"2,3\"],\n",
    ")  # view first two PCs, feature loadings, and variance"
   ]
  },
  {
   "cell_type": "code",
   "execution_count": null,
   "metadata": {},
   "outputs": [],
   "source": [
    "n_neighbs = int(np.sqrt(adata.n_obs))  # determine optimal number of neighbors by sqrt(n_obs)\n",
    "print(\"Number of nearest neighbors: {}\".format(n_neighbs))"
   ]
  },
  {
   "cell_type": "code",
   "execution_count": null,
   "metadata": {
    "tags": []
   },
   "outputs": [],
   "source": [
    "sc.pp.neighbors(adata, n_neighbors=n_neighbs, n_pcs=6, random_state=0)  # generate kNN graph with 6 PCs\n",
    "sc.tl.leiden(adata, resolution=0.2, random_state=1)  # determine dataset clusters"
   ]
  },
  {
   "cell_type": "code",
   "execution_count": null,
   "metadata": {},
   "outputs": [],
   "source": [
    "sc.tl.paga(adata)  # PAGA uses the kNN graph and Leiden clusters to create a cluster-cluster similarity graph\n",
    "sc.pl.paga(\n",
    "    adata,\n",
    "    color=\"leiden\",\n",
    "    node_size_scale=3,\n",
    "    fontsize=12,\n",
    "    fontoutline=2,\n",
    "    frameon=False,\n",
    ")  # plot PAGA graph. Edge thickness and distance describe cluster similarity"
   ]
  },
  {
   "cell_type": "code",
   "execution_count": null,
   "metadata": {},
   "outputs": [],
   "source": [
    "sc.tl.umap(adata, init_pos=\"paga\", random_state=0)  # initialize UMAP with PAGA coordinates\n",
    "sc.pl.umap(\n",
    "    adata,\n",
    "    color=\"leiden\",\n",
    "    legend_fontsize=12,\n",
    "    legend_fontoutline=2,\n",
    "    size=75,\n",
    "    frameon=False,\n",
    ")  # plot embedding with Leiden cluster overlay"
   ]
  },
  {
   "cell_type": "code",
   "execution_count": null,
   "metadata": {},
   "outputs": [],
   "source": [
    "sc.tl.rank_genes_groups(adata, groupby=\"leiden\")\n",
    "sc.pl.rank_genes_groups_dotplot(adata, n_genes=5, cmap=\"viridis\", standard_scale=\"var\")"
   ]
  },
  {
   "cell_type": "code",
   "execution_count": null,
   "metadata": {},
   "outputs": [],
   "source": [
    "sc.pl.rank_genes_groups(adata, ncols=4)"
   ]
  },
  {
   "cell_type": "markdown",
   "metadata": {},
   "source": [
    "---\n",
    "#### Now we should have Leiden clusters, a UMAP embedding, and differentially-expressed genes for each cluster.\n",
    "\n",
    "#### The assignment is to identify the clusters present in the dataset (at coarse resolution - `resolution=0.2` in `sc.tl.leiden` above).  There should be **three major groups**, and your task is to say which group each cluster belongs to:\n",
    "1. T lymphocytes\n",
    "2. B lymphocytes\n",
    "3. Myeloid cells"
   ]
  },
  {
   "cell_type": "code",
   "execution_count": null,
   "metadata": {},
   "outputs": [],
   "source": [
    "# there should be 4 clusters if you use resolution=0.2 in leiden clustering above\n",
    "celltypedict = {\n",
    "    \"0\":\"\",  # input the name of the cell type corresponding to each cluster ID here\n",
    "    \"1\":\"\",\n",
    "    \"2\":\"\",\n",
    "    \"3\":\"\",\n",
    "}\n",
    "\n",
    "# Remap the values of the dataframe\n",
    "adata.obs[\"cell_type\"] = adata.obs[\"leiden\"]\n",
    "adata.obs = adata.obs.replace({\"cell_type\" : celltypedict})"
   ]
  },
  {
   "cell_type": "code",
   "execution_count": null,
   "metadata": {},
   "outputs": [],
   "source": [
    "sc.pl.umap(\n",
    "    adata,\n",
    "    color=[\"cell_type\"],\n",
    "    legend_fontsize=12,\n",
    "    legend_fontoutline=2,\n",
    "    size=75,\n",
    "    frameon=False,\n",
    "    legend_loc=\"on data\",\n",
    ")  # plot embedding with Leiden cluster overlay"
   ]
  }
 ],
 "metadata": {
  "kernelspec": {
   "display_name": "qsbsc",
   "language": "python",
   "name": "qsbsc"
  },
  "language_info": {
   "codemirror_mode": {
    "name": "ipython",
    "version": 3
   },
   "file_extension": ".py",
   "mimetype": "text/x-python",
   "name": "python",
   "nbconvert_exporter": "python",
   "pygments_lexer": "ipython3",
   "version": "3.9.2"
  }
 },
 "nbformat": 4,
 "nbformat_minor": 4
}
