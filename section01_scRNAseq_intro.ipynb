{
 "cells": [
  {
   "cell_type": "markdown",
   "id": "bd18669b-db62-474e-921a-6ccc0dc3d718",
   "metadata": {},
   "source": [
    "<a href=\"https://colab.research.google.com/github/Ken-Lau-Lab/single-cell-lectures/blob/main/section01_scRNAseq_intro.ipynb\" target=\"_parent\"><img src=\"https://colab.research.google.com/assets/colab-badge.svg\" alt=\"Open In Colab\"/></a>"
   ]
  },
  {
   "cell_type": "markdown",
   "id": "f6bc3193-7a64-458a-8687-1c8d4afaf3f9",
   "metadata": {
    "tags": []
   },
   "source": [
    "## __Section 1:__ Introduction to scRNA-seq\n",
    "\n",
    "February 9, 2022"
   ]
  },
  {
   "cell_type": "code",
   "execution_count": null,
   "id": "327ed4a0-1abb-4775-ace2-0c697df23fbd",
   "metadata": {},
   "outputs": [],
   "source": [
    "!git clone git://github.com/Ken-Lau-Lab/single-cell-lectures  # for Colab users"
   ]
  },
  {
   "cell_type": "code",
   "execution_count": null,
   "id": "e6c77aa3-c715-4ba6-ae4f-f8389b986105",
   "metadata": {},
   "outputs": [],
   "source": [
    "!pip install scanpy"
   ]
  },
  {
   "cell_type": "code",
   "execution_count": null,
   "id": "2fa290a7",
   "metadata": {},
   "outputs": [],
   "source": [
    "!pip install leidenalg"
   ]
  },
  {
   "cell_type": "code",
   "execution_count": null,
   "id": "b4ab6b4b-ef5f-45c9-90a6-d0c743cb2113",
   "metadata": {},
   "outputs": [],
   "source": [
    "import scanpy as sc; sc.set_figure_params(dpi=200)\n",
    "import pandas as pd\n",
    "import numpy as np\n",
    "import matplotlib.pylab as plt\n",
    "import seaborn as sns"
   ]
  },
  {
   "cell_type": "code",
   "execution_count": null,
   "id": "e151bf7f-6889-417c-8d74-e1f117f6da7d",
   "metadata": {
    "scrolled": true
   },
   "outputs": [],
   "source": [
    "adata = sc.read_h5ad('single-cell-lectures/data/GSM3305227_Tumor_1_Full.h5ad')  # for Colab users, path to repository\n",
    "#adata = sc.read_h5ad('data/GSM3305227_Tumor_1_Full.h5ad')  # for local users, read from data directory"
   ]
  },
  {
   "cell_type": "code",
   "execution_count": null,
   "id": "1f75492b-9be7-49e3-a556-bfb504b1ea90",
   "metadata": {},
   "outputs": [],
   "source": [
    "adata.raw = adata  # save un-manipulated state to .raw attribute of AnnData object"
   ]
  },
  {
   "cell_type": "code",
   "execution_count": null,
   "id": "01096c9b-122e-4d9d-958b-0d6d5cc8d0a5",
   "metadata": {},
   "outputs": [],
   "source": [
    "adata.X  # working array of counts data"
   ]
  },
  {
   "cell_type": "code",
   "execution_count": null,
   "id": "d6f3cf31-a9c3-45ba-86b0-ee7df3e8bef0",
   "metadata": {},
   "outputs": [],
   "source": [
    "# normalize, transform, and scale counts\n",
    "sc.pp.normalize_total(adata)\n",
    "adata.X = np.arcsinh(adata.X).copy()\n",
    "sc.pp.scale(adata)"
   ]
  },
  {
   "cell_type": "code",
   "execution_count": null,
   "id": "b5e992af-dd1c-4bcd-982e-392ef5f2f6c5",
   "metadata": {},
   "outputs": [],
   "source": [
    "adata.X"
   ]
  },
  {
   "cell_type": "code",
   "execution_count": null,
   "id": "43dfde41-7d55-4e24-8e09-60da246af34b",
   "metadata": {},
   "outputs": [],
   "source": [
    "adata.var_names"
   ]
  },
  {
   "cell_type": "code",
   "execution_count": null,
   "id": "1ec1eff6-505c-4c7a-a7c5-14f31be8fbc1",
   "metadata": {},
   "outputs": [],
   "source": [
    "adata.var['Mitochondrial'] = adata.var.index.str.startswith('mt-')\n",
    "sc.pp.calculate_qc_metrics(adata,qc_vars=['Mitochondrial'],use_raw=True,inplace=True)"
   ]
  },
  {
   "cell_type": "code",
   "execution_count": null,
   "id": "6fa06d01-24c4-4db2-b527-6f11d788df90",
   "metadata": {},
   "outputs": [],
   "source": [
    "sc.pp.pca(adata,random_state=0)"
   ]
  },
  {
   "cell_type": "code",
   "execution_count": null,
   "id": "9503fc38-2274-4af4-8b66-d0352b63ce91",
   "metadata": {},
   "outputs": [],
   "source": [
    "neighborhood_k = np.sqrt(adata.n_obs).astype(int)  # We have found that scaling the K to equal the square root of the total number of neighbors to be effective\n",
    "sc.pp.neighbors(adata,n_neighbors=neighborhood_k,use_rep='X_pca',random_state=0)  # Calculate this KNN based off of the PCA distances"
   ]
  },
  {
   "cell_type": "code",
   "execution_count": null,
   "id": "9c185088-19e9-4904-a090-7fdd521731d8",
   "metadata": {},
   "outputs": [],
   "source": [
    "sc.tl.leiden(adata,resolution=0.5,random_state=0)  # Here we use a resolution of 2, which should yield 30+ clusters. This step may take a while."
   ]
  },
  {
   "cell_type": "code",
   "execution_count": null,
   "id": "8ca6e247-d70f-4a17-9459-3d24875f0069",
   "metadata": {},
   "outputs": [],
   "source": [
    "# Differential gene expression testing using the .raw values\n",
    "sc.tl.rank_genes_groups(adata,groupby='leiden',use_raw=True,n_genes=200,method='wilcoxon')"
   ]
  },
  {
   "cell_type": "code",
   "execution_count": null,
   "id": "add9cb28-bf2d-473c-82b7-051a54f6b231",
   "metadata": {},
   "outputs": [],
   "source": [
    "sc.pl.rank_genes_groups_dotplot(adata, n_genes=5, use_raw=False)"
   ]
  },
  {
   "cell_type": "code",
   "execution_count": null,
   "id": "ba4ffe1f-a590-478b-bd25-9afcfc303482",
   "metadata": {},
   "outputs": [],
   "source": [
    "sc.pl.rank_genes_groups_heatmap(adata, n_genes=5, show_gene_labels=True, use_raw=False)"
   ]
  },
  {
   "cell_type": "code",
   "execution_count": null,
   "id": "4bc1378c-42ce-48cf-a352-c87aa69b1777",
   "metadata": {},
   "outputs": [],
   "source": [
    "sc.pl.violin(adata, keys=['total_counts','total_counts_Mitochondrial','pct_counts_Mitochondrial'], jitter=0.4, multi_panel=True)"
   ]
  },
  {
   "cell_type": "code",
   "execution_count": null,
   "id": "fd91a809-f748-4b47-8287-4c810125c214",
   "metadata": {},
   "outputs": [],
   "source": [
    "#Show differential gene expression results\n",
    "sc.pl.rank_genes_groups(adata)"
   ]
  },
  {
   "cell_type": "code",
   "execution_count": null,
   "id": "14ea944f-ae9b-4256-9a1d-45d970478dbf",
   "metadata": {},
   "outputs": [],
   "source": [
    "sc.pl.violin(adata, keys=['Krt20','Myc','Lgr5'], use_raw=False)"
   ]
  },
  {
   "cell_type": "code",
   "execution_count": null,
   "id": "2b553e97-9215-4dc4-a4ec-cf78c5f4d45d",
   "metadata": {
    "scrolled": true
   },
   "outputs": [],
   "source": [
    "sc.pl.violin(adata, keys=['Krt20','Myc','Lgr5'], groupby='leiden', use_raw=False)"
   ]
  },
  {
   "cell_type": "code",
   "execution_count": null,
   "id": "7595f42a-5d27-4be2-b532-f47534cda4cf",
   "metadata": {},
   "outputs": [],
   "source": [
    "adata"
   ]
  },
  {
   "cell_type": "code",
   "execution_count": null,
   "id": "e9389f03-11cc-4998-a437-443b50bf1e2a",
   "metadata": {},
   "outputs": [],
   "source": [
    "pd.DataFrame(adata.uns['rank_genes_groups']['names']).head(10)"
   ]
  },
  {
   "cell_type": "code",
   "execution_count": null,
   "id": "9b1d975c",
   "metadata": {},
   "outputs": [],
   "source": [
    "#Subsetting and slicing"
   ]
  },
  {
   "cell_type": "code",
   "execution_count": null,
   "id": "81d2673b",
   "metadata": {},
   "outputs": [],
   "source": [
    "#Cell-wise / Obs-wise subsetting"
   ]
  },
  {
   "cell_type": "code",
   "execution_count": null,
   "id": "a72c0f3b",
   "metadata": {
    "scrolled": true
   },
   "outputs": [],
   "source": [
    "adata[:10] #first 10"
   ]
  },
  {
   "cell_type": "code",
   "execution_count": null,
   "id": "d25dc268",
   "metadata": {
    "scrolled": true
   },
   "outputs": [],
   "source": [
    "adata[10:100] #between 10-100"
   ]
  },
  {
   "cell_type": "code",
   "execution_count": null,
   "id": "809c9332",
   "metadata": {
    "scrolled": true
   },
   "outputs": [],
   "source": [
    "random_idx = np.random.randint(0,1000,500) #choose 500 cells between indices 0-1000\n",
    "adata[random_idx]"
   ]
  },
  {
   "cell_type": "code",
   "execution_count": null,
   "id": "b1d86016",
   "metadata": {},
   "outputs": [],
   "source": [
    "#Subsetting feature/variable metadata"
   ]
  },
  {
   "cell_type": "code",
   "execution_count": null,
   "id": "4805f2a9",
   "metadata": {
    "scrolled": false
   },
   "outputs": [],
   "source": [
    "adata.var[adata.var['Mitochondrial']] #look at just the mitochondrial subset of variables"
   ]
  },
  {
   "cell_type": "code",
   "execution_count": null,
   "id": "26c76802",
   "metadata": {},
   "outputs": [],
   "source": [
    "adata.obs_vector('mt-Atp6') #get all values of a particular variable/feature across cells"
   ]
  }
 ],
 "metadata": {
  "kernelspec": {
   "display_name": "Python 3",
   "language": "python",
   "name": "python3"
  },
  "language_info": {
   "codemirror_mode": {
    "name": "ipython",
    "version": 3
   },
   "file_extension": ".py",
   "mimetype": "text/x-python",
   "name": "python",
   "nbconvert_exporter": "python",
   "pygments_lexer": "ipython3",
   "version": "3.8.8"
  }
 },
 "nbformat": 4,
 "nbformat_minor": 5
}
