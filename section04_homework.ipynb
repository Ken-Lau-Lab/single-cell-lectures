{
 "cells": [
  {
   "cell_type": "markdown",
   "metadata": {},
   "source": [
    "<a href=\"https://colab.research.google.com/github/Ken-Lau-Lab/single-cell-lectures/blob/main/section04_homework.ipynb\" target=\"_parent\"><img src=\"https://colab.research.google.com/assets/colab-badge.svg\" alt=\"Open In Colab\"/></a>"
   ]
  },
  {
   "cell_type": "markdown",
   "metadata": {
    "tags": []
   },
   "source": [
    "## __Section 4:__ Dimension Reduction Homework\n",
    "\n",
    "February 22, 2022"
   ]
  },
  {
   "cell_type": "markdown",
   "metadata": {},
   "source": [
    "---"
   ]
  },
  {
   "cell_type": "code",
   "execution_count": null,
   "metadata": {},
   "outputs": [],
   "source": [
    "!git clone git://github.com/Ken-Lau-Lab/single-cell-lectures  # for Colab users\n",
    "!pip install scanpy  # for Colab users\n",
    "!pip install leidenalg  # for Colab users\n",
    "!pip install scikit-learn # for Colab users\n",
    "!cp -r single-cell-lectures/data/ .  # for Colab users"
   ]
  },
  {
   "cell_type": "code",
   "execution_count": null,
   "metadata": {},
   "outputs": [],
   "source": [
    "%env PYTHONHASHSEED=0\n",
    "import scanpy as sc; sc.settings.verbosity = 3  # Set scanpy verbosity to 3 for in depth function run information\n",
    "import numpy as np\n",
    "import random; random.seed(22)\n",
    "from sklearn.preprocessing import normalize\n",
    "np.random.seed(22)"
   ]
  },
  {
   "cell_type": "markdown",
   "metadata": {},
   "source": [
    "---\n",
    "#### Import peripheral blood mononuclear cells (PBMC) dataset.  This has already been **filtered** and **feature-selected**.\n",
    "\n",
    "#### Your assignment is to **perform principal component analysis** and determine **which gene features drive the major PCs in the dataset**."
   ]
  },
  {
   "cell_type": "code",
   "execution_count": null,
   "metadata": {},
   "outputs": [],
   "source": [
    "adata = sc.read(\"data/PBMC_3k_small.h5ad\") ; adata"
   ]
  },
  {
   "cell_type": "markdown",
   "metadata": {},
   "source": [
    "#### Below, I've included some code snippets that we used during the lecture for processing.\n",
    "\n",
    "#### We don't need to worry about mitochondrial counts or cell cycle phase inference for this exercise."
   ]
  },
  {
   "cell_type": "code",
   "execution_count": null,
   "metadata": {},
   "outputs": [],
   "source": [
    "# let's first define a custom function that operates on AnnData objects\n",
    "def arcsinh_norm(adata, layer=None, norm=\"l1\", scale=1000):\n",
    "    \"\"\"\n",
    "    return arcsinh-normalized values for each element in anndata counts matrix\n",
    "    l1 normalization (sc.pp.normalize_total) should be performed before this transformation\n",
    "        adata = AnnData object\n",
    "        layer = name of lauer to perform arcsinh-normalization on. if None, use AnnData.X\n",
    "        norm = normalization strategy prior to Log2 transform.\n",
    "            None: do not normalize data\n",
    "            'l1': divide each count by sum of counts for each cell\n",
    "            'l2': divide each count by sqrt of sum of squares of counts for cell\n",
    "        scale = factor to scale normalized counts to; default 1000\n",
    "    \"\"\"\n",
    "    if layer is None:\n",
    "        mat = adata.X\n",
    "    else:\n",
    "        mat = adata.layers[layer]\n",
    "\n",
    "    adata.layers[\"arcsinh_norm\"] = np.arcsinh(normalize(mat, axis=1, norm=norm) * scale)"
   ]
  },
  {
   "cell_type": "code",
   "execution_count": null,
   "metadata": {},
   "outputs": [],
   "source": [
    "# preprocess AnnData for downstream dimensionality reduction\n",
    "adata.layers[\"raw_counts\"] = adata.X.copy()  # save raw counts in layer\n",
    "arcsinh_norm(adata, layer=\"raw_counts\", norm=\"l1\", scale=1000)  # arcsinh-transform normalized counts and add to .layers['arcsinh_norm']\n",
    "adata.X = adata.layers[\"arcsinh_norm\"].copy()  # set normalized counts as .X slot in scanpy object"
   ]
  },
  {
   "cell_type": "markdown",
   "metadata": {},
   "source": [
    "#### In the code block below, perform a **50-component PCA**, plot the overview containing the PC scatterplots, gene loadings, and variance ratio"
   ]
  },
  {
   "cell_type": "code",
   "execution_count": null,
   "metadata": {},
   "outputs": [],
   "source": []
  },
  {
   "cell_type": "markdown",
   "metadata": {},
   "source": [
    "#### List the **top 3 genes in each of the first 3 principal components**, which describe the \"loadings\" for the major PCs that explain the most variance across all cells"
   ]
  }
 ],
 "metadata": {
  "kernelspec": {
   "display_name": "qsbsc",
   "language": "python",
   "name": "qsbsc"
  },
  "language_info": {
   "codemirror_mode": {
    "name": "ipython",
    "version": 3
   },
   "file_extension": ".py",
   "mimetype": "text/x-python",
   "name": "python",
   "nbconvert_exporter": "python",
   "pygments_lexer": "ipython3",
   "version": "3.9.2"
  }
 },
 "nbformat": 4,
 "nbformat_minor": 4
}
