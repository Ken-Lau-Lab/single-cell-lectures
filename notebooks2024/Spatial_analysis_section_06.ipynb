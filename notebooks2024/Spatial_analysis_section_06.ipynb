{
 "cells": [
  {
   "cell_type": "markdown",
   "id": "b7c37694-1b28-4a46-9d1a-fb3830899f3d",
   "metadata": {},
   "source": [
    "<a href=\"https://colab.research.google.com/github/Ken-Lau-Lab/single-cell-lectures/blob/main/notebooks2024/Spatial_analysis_section_06.ipynb\" target=\"_parent\"><img src=\"https://colab.research.google.com/assets/colab-badge.svg\" alt=\"Open In Colab\"/></a>"
   ]
  },
  {
   "cell_type": "code",
   "execution_count": null,
   "id": "b170b23a-e4b7-4485-ad23-a8d0507c17ed",
   "metadata": {},
   "outputs": [],
   "source": [
    "## uncomment this part\n",
    "# ! pip install scanpy\n",
    "# ! pip install milwrm\n",
    "# ! pip install squidpy\n",
    "# ! pip install harmonypy"
   ]
  },
  {
   "cell_type": "code",
   "execution_count": null,
   "id": "77334cc5-9c4c-4774-9640-b3c24218f3f3",
   "metadata": {},
   "outputs": [],
   "source": [
    "import scanpy as sc\n",
    "import squidpy as sq\n",
    "import MILWRM as mw\n",
    "import matplotlib.pyplot as plt"
   ]
  },
  {
   "cell_type": "code",
   "execution_count": null,
   "id": "b73f1542-0711-4527-83b4-db8e6779e321",
   "metadata": {},
   "outputs": [],
   "source": [
    "import logging\n",
    "logging.getLogger('matplotlib.font_manager').disabled = True"
   ]
  },
  {
   "cell_type": "markdown",
   "id": "6707f500-996a-453f-970f-5111e5b9c595",
   "metadata": {},
   "source": [
    "let us look at the lymph node dataset first. Do you recall how can you load this dataset from last class?"
   ]
  },
  {
   "cell_type": "code",
   "execution_count": null,
   "id": "7d7104ac-8b50-4654-ad0b-ffd0983215a0",
   "metadata": {},
   "outputs": [],
   "source": [
    "adata = \"add your code here\" "
   ]
  },
  {
   "cell_type": "markdown",
   "id": "d1789502-0d2d-408b-95a8-fb3b5e478e16",
   "metadata": {},
   "source": [
    "Can you do a spatial plot of this data now? "
   ]
  },
  {
   "cell_type": "code",
   "execution_count": null,
   "id": "949705a5-7ff1-498c-8baf-4fd8c342fbab",
   "metadata": {},
   "outputs": [],
   "source": [
    "\"sc.pl...add your code here\""
   ]
  },
  {
   "cell_type": "markdown",
   "id": "237bb105-dfb4-4766-8d5e-50e9e48d1ba9",
   "metadata": {},
   "source": [
    "We are going to perform the same normalization steps and perform the PCA on the data that we did in last class. Can you perform the preprocessing steps?"
   ]
  },
  {
   "cell_type": "code",
   "execution_count": 4,
   "id": "75212cd2-0367-4153-933b-f8777f70c7ff",
   "metadata": {},
   "outputs": [
    {
     "data": {
      "text/plain": [
       "'Add your code here'"
      ]
     },
     "execution_count": 4,
     "metadata": {},
     "output_type": "execute_result"
    }
   ],
   "source": [
    "\"Add your code here\""
   ]
  },
  {
   "cell_type": "markdown",
   "id": "6d6343ef-ab5a-4a43-a1e3-9b5614fe6a8d",
   "metadata": {},
   "source": [
    "## MILWRM \n",
    "We first create a tissue labeler object defined as variable tl here with the list adata and then we perform preprocessing of this data. Finally we label tissue regions and also estimate confidence score for tissue domain assignment and also look at domain profile for each tissue domain. "
   ]
  },
  {
   "cell_type": "code",
   "execution_count": null,
   "id": "ed4aa0d9-bdc5-4f83-a598-cee804aabe48",
   "metadata": {},
   "outputs": [],
   "source": [
    "adatas = [adata] # Create a list of your samples"
   ]
  },
  {
   "cell_type": "code",
   "execution_count": null,
   "id": "8163fbe5-715d-42b3-b0d8-4e34140f64a2",
   "metadata": {},
   "outputs": [],
   "source": [
    "tl = mw.st_labeler(adatas)  ## creating a tissue labeler object"
   ]
  },
  {
   "cell_type": "markdown",
   "id": "523637fd-b22f-46b0-9f49-7cfb7a99abb4",
   "metadata": {},
   "source": [
    "While preparing cluster data you can add/reduce features or modify the number of rings. You can read more here on documentation of this function https://ken-lau-lab.github.io/MILWRM/"
   ]
  },
  {
   "cell_type": "code",
   "execution_count": null,
   "id": "05e3148d-5a4e-448e-b7fd-e4628db7edeb",
   "metadata": {},
   "outputs": [],
   "source": [
    "%time tl.prep_cluster_data(use_rep=\"X_pca\", features=[0,1,2,3,4,5,6,7,8,9,10,11,12],n_rings=1)"
   ]
  },
  {
   "cell_type": "markdown",
   "id": "4be96b62-957e-4a5e-ae52-5b66b3322c98",
   "metadata": {},
   "source": [
    "Finally we are labelling tissue domains here. Pay attention to alpha might be useful for an assignment 🤷. Alpha ranges from 0.01 tom 0.05. You will get lesser number of tissue domains the higher your alpha is. Thus, if you want to get tissue domains that are more specific you need to reduce alpha. "
   ]
  },
  {
   "cell_type": "code",
   "execution_count": null,
   "id": "4dcdd6d5-5dcf-40ac-9ab3-f9bfd15ae19f",
   "metadata": {},
   "outputs": [],
   "source": [
    "%time a = tl.label_tissue_regions(plot_out=True, alpha=0.05)"
   ]
  },
  {
   "cell_type": "code",
   "execution_count": null,
   "id": "24e817d3-626e-4e90-993f-f616e8b44298",
   "metadata": {},
   "outputs": [],
   "source": [
    "sc.pl.spatial(adatas[0], color = 'tissue_ID')"
   ]
  },
  {
   "cell_type": "code",
   "execution_count": null,
   "id": "fb4b17c8-5f0f-49de-8591-1c580a497b08",
   "metadata": {},
   "outputs": [],
   "source": [
    "tl.plot_gene_loadings(adata.varm['PCs'], nfiolcols = 3)"
   ]
  },
  {
   "cell_type": "markdown",
   "id": "f3f0c38b-887e-4395-ad56-03a89ef2d10a",
   "metadata": {},
   "source": [
    "tissue ID 0 : CXCL13, FDCSP - stromal network including follicular Dendritic cells\n",
    "tissue ID 2 : Follicles IGHG2 - Expressed by b cells so follicles\n",
    "tissue ID 4 : TCF7 - expressed by T cells -- T cell zone\n",
    "tissue ID 5 : MEF2B - expressed in germinal centers in lymph node\n",
    "\n",
    "Notice that the genes expressed in respective tissue domains all are associated with a specific function and structure in lymph node. "
   ]
  },
  {
   "cell_type": "markdown",
   "id": "5b9d1d99-8725-4b63-b0b9-9f2b5da86196",
   "metadata": {},
   "source": [
    "### Squidpy Neighborhood analysis"
   ]
  },
  {
   "cell_type": "markdown",
   "id": "a929dc5e-5a84-4356-9322-5a25a501b53c",
   "metadata": {},
   "source": [
    "Squidpy library can perform various spatial analysis on a number of different spatial data types. You can read more about its documentation here : https://squidpy.readthedocs.io/en/stable/notebooks/tutorials/tutorial_visium_hne.html\n",
    "Here we are performing a simple neighborhood enrichment and co-occurence analysis. \n",
    "Neighborhood enrichment analysis asses the spatial proximity of clusters, if two spots belonging two different clusters are often close to each other then they are _enriched_."
   ]
  },
  {
   "cell_type": "code",
   "execution_count": null,
   "id": "6b5c9ac7-50ef-42c5-9870-02e7f22ae975",
   "metadata": {},
   "outputs": [],
   "source": [
    "sq.gr.spatial_neighbors(adata) ## spatial neighbors functions is use to compute a connectivity matrix for each spot\n",
    "sq.gr.nhood_enrichment(adata, cluster_key=\"tissue_ID\")\n",
    "sq.pl.nhood_enrichment(adata, cluster_key=\"tissue_ID\")"
   ]
  },
  {
   "cell_type": "markdown",
   "id": "6abae0dc-02f7-4a54-9cc2-3561d65559a1",
   "metadata": {},
   "source": [
    "co-occurence analysis is similar analysis but it is performed on the actual spot locations and not on the connectivity matrix. "
   ]
  },
  {
   "cell_type": "code",
   "execution_count": null,
   "id": "75f05a85-7ff8-4fe8-b913-922885bc472d",
   "metadata": {},
   "outputs": [],
   "source": [
    "sq.gr.co_occurrence(adata, cluster_key=\"tissue_ID\")\n",
    "sq.pl.co_occurrence(\n",
    "    adata,\n",
    "    cluster_key=\"tissue_ID\",\n",
    "    clusters=2,\n",
    "    figsize=(8, 4),\n",
    ")"
   ]
  },
  {
   "cell_type": "markdown",
   "id": "29a5d969-12fc-4c04-8bf4-d7a50754c155",
   "metadata": {},
   "source": [
    "## MILWRM on mouse brain dataset "
   ]
  },
  {
   "cell_type": "code",
   "execution_count": null,
   "id": "16137d48-691d-496c-9d37-3e1ff7564e79",
   "metadata": {},
   "outputs": [],
   "source": [
    "! curl -O -J -L https://www.dropbox.com/sh/87aqjwn8c0n618w/AADF1ulr-Zy3W3iyMJ9C3kDAa?dl=0"
   ]
  },
  {
   "cell_type": "code",
   "execution_count": null,
   "id": "b0d66c2d-6e23-42da-ab0f-34402254fc9c",
   "metadata": {},
   "outputs": [],
   "source": [
    "!unzip mouse_st_data.zip"
   ]
  },
  {
   "cell_type": "code",
   "execution_count": null,
   "id": "b1d07886-c431-4126-9345-2fd0bd12c6f2",
   "metadata": {},
   "outputs": [],
   "source": [
    "mouse_coronal = sc.read(\"Mouse_coronal/unfiltered_Mouse_coronal.h5ad\") ## read in the data mouse_coronal.var_names_make_unique() ## make var names unique"
   ]
  },
  {
   "cell_type": "code",
   "execution_count": null,
   "id": "823e24a6-6cd1-496e-898c-eda3106d6a58",
   "metadata": {},
   "outputs": [],
   "source": [
    "mouse_saggital_anterior = sc.read(\"V1_Mouse_brain_saggital/unfiltered_V1_Mouse_brain_saggital_ant.h5ad\") mouse_saggital_anterior.var_names_make_unique()"
   ]
  },
  {
   "cell_type": "code",
   "execution_count": null,
   "id": "6d4ff9e2-a3a5-473d-b7fc-3d9d0bbe082b",
   "metadata": {},
   "outputs": [],
   "source": [
    "mouse_saggital_posterior = sc.read(\"V1_Mouse_brain_saggital_post/unfiltered_V1_Mouse_brain_saggital_post.h5ad\") mouse_saggital_posterior.var_names_make_unique()"
   ]
  },
  {
   "cell_type": "code",
   "execution_count": null,
   "id": "ec7faa01-05f9-4ef1-99ed-bd9ba6d80be6",
   "metadata": {},
   "outputs": [],
   "source": [
    "adatas = [mouse_coronal, mouse_saggital_anterior, mouse_saggital_posterior]"
   ]
  },
  {
   "cell_type": "markdown",
   "id": "89710dbe-3343-46d3-a2ad-a878c15cbba2",
   "metadata": {},
   "source": [
    "We need to filter out the spots that are not under the tissue from our data. This is required to make figures with MILWRM. Alternatively you can use filtered data directly for your analysis but you cannot use MILWRM's plotting functions in that case. "
   ]
  },
  {
   "cell_type": "code",
   "execution_count": null,
   "id": "4cf122e7-59c3-437e-a9b6-8f2487d15920",
   "metadata": {},
   "outputs": [],
   "source": [
    "adata_map = [] \n",
    "for adata in adatas: \n",
    "    adata_map.append(mw.map_pixels(adata))"
   ]
  },
  {
   "cell_type": "code",
   "execution_count": null,
   "id": "21ca524a-f095-480e-84b9-34d5eda74fac",
   "metadata": {},
   "outputs": [],
   "source": [
    "labels = ['coronal', 'sagittal anterior', 'sagittal posterior'] comb = adata_map[0].concatenate(adata_map[1:],fill_value=0, join=\"outer\", batch_categories = labels)"
   ]
  },
  {
   "cell_type": "code",
   "execution_count": null,
   "id": "b890bd7c-b22c-45d9-b692-5510d3fc54c0",
   "metadata": {},
   "outputs": [],
   "source": [
    "sc.pp.normalize_total(comb) # normalizing wth respect to the total count so that every cell has same total count at the end. Read more here ->https://scanpy.readthedocs.io/en/stable/generated/scanpy.pp.normalize_total.html \n",
    "sc.pp.log1p(comb) # log1p transformation on data \n",
    "sc.pp.scale(comb) # scaling the data \n",
    "sc.pp.pca(comb, n_comps=50) # performing PCA"
   ]
  },
  {
   "cell_type": "code",
   "execution_count": null,
   "id": "8d6e64a1-2656-4302-8389-382bc54709b4",
   "metadata": {},
   "outputs": [],
   "source": [
    "sc.pl.pca_overview(comb, color=\"batch\") # plotting the overview"
   ]
  },
  {
   "cell_type": "markdown",
   "id": "1b6e1f96-d1a5-4c15-a72d-5bf3f712949b",
   "metadata": {
    "id": "HOlEaGBHSb0J"
   },
   "source": [
    "## Harmonizing the data\n",
    "Since we perform MILWRM across samples it is important to correct for any batch effects in the data. One way to do it is using Harmonypy a package designed for batch correction\n",
    "in single cell data. It does batch correction using Principal components. \n",
    "You can read more about this package here -> https://www.nature.com/articles/s41592-019-0619-0"
   ]
  },
  {
   "cell_type": "code",
   "execution_count": null,
   "id": "40bc30d6-c944-4a8a-ada0-82a4fcd51a62",
   "metadata": {
    "id": "0DwW8RwBSbm9"
   },
   "outputs": [],
   "source": [
    "top_20_pcs = comb.obsm['X_pca'][:,:20]  # we are taking 20 PCs here for batch correction"
   ]
  },
  {
   "cell_type": "code",
   "execution_count": null,
   "id": "9796f8d6-b66f-431d-b769-ebcecd596d52",
   "metadata": {
    "id": "pDx8OZ5hSie4"
   },
   "outputs": [],
   "source": [
    "meta_data = comb.obs \n",
    "data_mat = top_20_pcs\n",
    "data_mat = np.array(data_mat)\n",
    "vars_use = ['batch']"
   ]
  },
  {
   "cell_type": "code",
   "execution_count": null,
   "id": "04ed22af-8fdb-4591-94f0-0202d4ee3970",
   "metadata": {
    "colab": {
     "base_uri": "https://localhost:8080/"
    },
    "id": "p2rEEgOHSj9b",
    "outputId": "2d14bd52-4bef-465a-88f2-7c2ca03fce3d"
   },
   "outputs": [],
   "source": [
    "ho = hm.run_harmony(data_mat, meta_data, vars_use, max_iter_harmony=10) ## running harmony"
   ]
  },
  {
   "cell_type": "code",
   "execution_count": null,
   "id": "06aa7007-240d-47d6-a138-17c501899bbe",
   "metadata": {
    "id": "0koMfg_mSlk1"
   },
   "outputs": [],
   "source": [
    "res = pd.DataFrame(ho.Z_corr) \n",
    "res.columns = ['X{}'.format(i + 1) for i in range(res.shape[1])]"
   ]
  },
  {
   "cell_type": "code",
   "execution_count": null,
   "id": "c23d6701-f06e-4d05-b5c4-d841bc470418",
   "metadata": {
    "id": "1dm_yEbtSmr_"
   },
   "outputs": [],
   "source": [
    "res = res.T  ## these are corrected PCs"
   ]
  },
  {
   "cell_type": "code",
   "execution_count": null,
   "id": "ca3a528b-98f3-4353-b1db-c32845f863e1",
   "metadata": {
    "id": "4YAwEkghSntG"
   },
   "outputs": [],
   "source": [
    "comb.obsm['new_PCA'] = res.values  # we will assign those to new PCs in our anndata and use that for MILWRM"
   ]
  },
  {
   "cell_type": "code",
   "execution_count": null,
   "id": "b03c2d70-ceb7-4bef-b0b2-cec730535aa7",
   "metadata": {
    "id": "G6umeFZ1So0X"
   },
   "outputs": [],
   "source": [
    "for i,adata in zip(labels,adata_map): ## we are also adding that to our individual anndatas for each sample\n",
    "    adata.obsm['new_PCA'] = comb[comb.obs.batch==str(i),:].obsm['new_PCA'] "
   ]
  },
  {
   "cell_type": "code",
   "execution_count": null,
   "id": "9d4080d3-843f-463e-ac4a-fba96090742d",
   "metadata": {
    "id": "VA6HosQXSp7j"
   },
   "outputs": [],
   "source": [
    "for i,adata in zip(labels,adata_map):\n",
    "    adata.obsm['X_pca'] = comb[comb.obs.batch==str(i),:].obsm['X_pca'] "
   ]
  },
  {
   "cell_type": "markdown",
   "id": "61d3dbc3-b235-48f3-8914-4844c145be06",
   "metadata": {
    "id": "3vnzhKD1TEAL"
   },
   "source": [
    "## Running MILWRM\n",
    "\n",
    "We first create a tissue labeler object defined as variable tl here with the list adata and then we perform preprocessing of this data. Finally we label tissue regions and also estimate confidence score for tissue domain assignment and also look at domain profile for each tissue domain. "
   ]
  },
  {
   "cell_type": "code",
   "execution_count": null,
   "id": "7335d087-57f9-468e-9779-1a4ec392308f",
   "metadata": {
    "colab": {
     "base_uri": "https://localhost:8080/"
    },
    "id": "HU9pNntdUBGV",
    "outputId": "64d43e08-2b29-4f46-da2d-98d20a98c6d2"
   },
   "outputs": [],
   "source": [
    "tl = mw.st_labeler(adata_map)  ## Creating tissue labeller object"
   ]
  },
  {
   "cell_type": "markdown",
   "id": "cff7a9da-f2d7-44ff-a5ef-c9df08b6fd8a",
   "metadata": {
    "id": "A2el0PfoUF27"
   },
   "source": [
    "While preparing cluster data you can add/reduce features or modify the number of rings. You can read more here on documentation of this function https://ken-lau-lab.github.io/MILWRM/\n"
   ]
  },
  {
   "cell_type": "code",
   "execution_count": null,
   "id": "2f3cb8e0-86fa-4b85-af46-ac9b44da3934",
   "metadata": {
    "colab": {
     "base_uri": "https://localhost:8080/"
    },
    "id": "elw4k95oUCjf",
    "outputId": "8eee0767-4c19-4498-f075-b9e203dbb866"
   },
   "outputs": [],
   "source": [
    "%time tl.prep_cluster_data(use_rep=\"new_PCA\", features=[0,1,2,3,4,5,6,7,8,9,10,11,12],n_rings=1, n_jobs = 3) "
   ]
  },
  {
   "cell_type": "markdown",
   "id": "b17181c7-dd56-41b5-aa20-007ead9040f4",
   "metadata": {
    "id": "desKU_JBUSb1"
   },
   "source": [
    "Finally we are labelling tissue domains here. Pay attention to alpha might be useful for an assignment 🤷. Alpha ranges from 0.01 tom 0.05. You will get lesser number of tissue domains the higher your alpha is. Thus, if you want to get tissue domains that are more specific you need to reduce alpha. "
   ]
  },
  {
   "cell_type": "code",
   "execution_count": null,
   "id": "f2790be5-9292-4e19-a6dd-7bfa4b043042",
   "metadata": {
    "colab": {
     "base_uri": "https://localhost:8080/",
     "height": 625
    },
    "id": "wIHqFPvXUP2M",
    "outputId": "e6812529-3549-46c0-dd4a-629c420e1153"
   },
   "outputs": [],
   "source": [
    "%time a = tl.label_tissue_regions(plot_out=True, alpha=0.05, n_jobs = 3)  "
   ]
  },
  {
   "cell_type": "markdown",
   "id": "930f8265-d2a4-47d4-ade3-78c0f574ee76",
   "metadata": {
    "id": "t44cFqLKV_9o"
   },
   "source": [
    "#### Let's look at our tissue domains now"
   ]
  },
  {
   "cell_type": "code",
   "execution_count": null,
   "id": "a16b4b9d-84c6-4697-bdd3-40ebe38e910d",
   "metadata": {
    "colab": {
     "base_uri": "https://localhost:8080/",
     "height": 1000
    },
    "id": "zNIYHZ6-WERX",
    "outputId": "98898150-70eb-4a4e-f138-9a9ecb2f42e7"
   },
   "outputs": [],
   "source": [
    "## Looking at Tissue domains\n",
    "for i in range(len(tl.adatas)):\n",
    "    # get blurred features that are saved to adata.obs\n",
    "    # create plot of blurred training features and final tissue_ID labels\n",
    "    p = mw.assemble_pita(tl.adatas[i], use_rep = \".obs\",features=['tissue_ID'], histo = 'hires',cmap = 'tab20', save_to = None)"
   ]
  },
  {
   "cell_type": "markdown",
   "id": "72b6d87f-9c2b-49d6-a9f5-d13ad5e278d4",
   "metadata": {
    "id": "bCr0Dv1SUY1p"
   },
   "source": [
    "#### what is proportion of each tissue domain\n"
   ]
  },
  {
   "cell_type": "code",
   "execution_count": null,
   "id": "0f30e26a-ea17-4107-aff7-22d6b1db546a",
   "metadata": {
    "colab": {
     "base_uri": "https://localhost:8080/",
     "height": 495
    },
    "id": "3QxWK3QPUT9m",
    "outputId": "25354273-b368-4fd4-adce-d789ee6c593f"
   },
   "outputs": [],
   "source": [
    "a = tl.plot_tissue_ID_proportions_st(save_to=None)"
   ]
  },
  {
   "cell_type": "markdown",
   "id": "9c217e1e-aec8-4b30-b43e-bf5fa7232b4c",
   "metadata": {
    "id": "0lGU7JCmUeOr"
   },
   "source": [
    "#### confidence scores\n",
    "How confident are we about our assignments we can do so by plotting the confidence score for spot assignment "
   ]
  },
  {
   "cell_type": "code",
   "execution_count": null,
   "id": "72084ed6-4306-4579-a850-7d230d95be8b",
   "metadata": {
    "colab": {
     "base_uri": "https://localhost:8080/",
     "height": 1000
    },
    "id": "0xSxB-FHUdlk",
    "outputId": "61ca080a-1dcb-431b-ece9-60faa939f0c8"
   },
   "outputs": [],
   "source": [
    "tl.confidence_score() ## calculating confidence scores\n",
    "for i in range(len(tl.adatas)):\n",
    "    # a = sc.pl.spatial(tl.adatas[i],color = \"n_confidence_score\" )\n",
    "    p = mw.assemble_pita(tl.adatas[i], use_rep = \".obs\",features=['confidence_score'],cmap = 'rainbow', save_to = None)"
   ]
  },
  {
   "cell_type": "markdown",
   "id": "6f0c397a-8c15-4b25-bbea-d8d612baff1d",
   "metadata": {
    "id": "3eEM801SUoBK"
   },
   "source": [
    "#### plotting the domain profile for each Tissue domain "
   ]
  },
  {
   "cell_type": "code",
   "execution_count": null,
   "id": "4989e09f-1382-40e8-ad3f-e72c80aaa36a",
   "metadata": {
    "colab": {
     "base_uri": "https://localhost:8080/",
     "height": 912
    },
    "id": "nodfBGsXUn0N",
    "outputId": "8ad4d140-195f-4ed7-f720-16d2cba739b8"
   },
   "outputs": [],
   "source": [
    "tl.plot_gene_loadings(comb.varm['PCs'], ncols = 3, save_to= None)"
   ]
  },
  {
   "cell_type": "code",
   "execution_count": null,
   "id": "86d3d130-9ddc-4799-8741-ae7fe8d89dbb",
   "metadata": {},
   "outputs": [],
   "source": []
  }
 ],
 "metadata": {
  "kernelspec": {
   "display_name": "Python pytorch kernel",
   "language": "python",
   "name": "other-env"
  },
  "language_info": {
   "codemirror_mode": {
    "name": "ipython",
    "version": 3
   },
   "file_extension": ".py",
   "mimetype": "text/x-python",
   "name": "python",
   "nbconvert_exporter": "python",
   "pygments_lexer": "ipython3",
   "version": "3.8.18"
  }
 },
 "nbformat": 4,
 "nbformat_minor": 5
}
