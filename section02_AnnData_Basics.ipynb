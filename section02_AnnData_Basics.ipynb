{
 "cells": [
  {
   "cell_type": "markdown",
   "metadata": {},
   "source": [
    "<a href=\"https://colab.research.google.com/github/Ken-Lau-Lab/single-cell-lectures/blob/main/section02_AnnData_Basics.ipynb\" target=\"_parent\"><img src=\"https://colab.research.google.com/assets/colab-badge.svg\" alt=\"Open In Colab\"/></a>"
   ]
  },
  {
   "cell_type": "markdown",
   "metadata": {
    "tags": []
   },
   "source": [
    "## __Section 2:__ Introduction to AnnData\n",
    "\n",
    "February 15, 2022"
   ]
  },
  {
   "cell_type": "code",
   "execution_count": 1,
   "metadata": {},
   "outputs": [],
   "source": [
    "#Import statements\n",
    "import pandas as pd #import pandas and assign the variable 'pd' to access it\n",
    "import scanpy as sc #import scanpy and assign the variable 'sc' to access it"
   ]
  },
  {
   "cell_type": "code",
   "execution_count": 8,
   "metadata": {},
   "outputs": [],
   "source": [
    "data = sc.read_h5ad(\"Example_Data.h5ad\") #use the scanpy function 'read_h5ad' to read the .h5ad file as denoted in the quotes, then assign it to the variable \"data\""
   ]
  },
  {
   "cell_type": "code",
   "execution_count": 10,
   "metadata": {},
   "outputs": [
    {
     "data": {
      "text/plain": [
       "anndata._core.anndata.AnnData"
      ]
     },
     "execution_count": 10,
     "metadata": {},
     "output_type": "execute_result"
    }
   ],
   "source": [
    "type(data) #ask python what type/class this object is"
   ]
  },
  {
   "cell_type": "code",
   "execution_count": 9,
   "metadata": {},
   "outputs": [
    {
     "data": {
      "text/plain": [
       "AnnData object with n_obs × n_vars = 20 × 20"
      ]
     },
     "execution_count": 9,
     "metadata": {},
     "output_type": "execute_result"
    }
   ],
   "source": [
    "data #return some general information about this AnnData object"
   ]
  },
  {
   "cell_type": "code",
   "execution_count": 11,
   "metadata": {
    "tags": []
   },
   "outputs": [
    {
     "data": {
      "text/html": [
       "<div>\n",
       "<style scoped>\n",
       "    .dataframe tbody tr th:only-of-type {\n",
       "        vertical-align: middle;\n",
       "    }\n",
       "\n",
       "    .dataframe tbody tr th {\n",
       "        vertical-align: top;\n",
       "    }\n",
       "\n",
       "    .dataframe thead th {\n",
       "        text-align: right;\n",
       "    }\n",
       "</style>\n",
       "<table border=\"1\" class=\"dataframe\">\n",
       "  <thead>\n",
       "    <tr style=\"text-align: right;\">\n",
       "      <th></th>\n",
       "    </tr>\n",
       "    <tr>\n",
       "      <th>Barcode</th>\n",
       "    </tr>\n",
       "  </thead>\n",
       "  <tbody>\n",
       "    <tr>\n",
       "      <th>BC1</th>\n",
       "    </tr>\n",
       "    <tr>\n",
       "      <th>BC2</th>\n",
       "    </tr>\n",
       "    <tr>\n",
       "      <th>BC3</th>\n",
       "    </tr>\n",
       "    <tr>\n",
       "      <th>BC4</th>\n",
       "    </tr>\n",
       "    <tr>\n",
       "      <th>BC5</th>\n",
       "    </tr>\n",
       "    <tr>\n",
       "      <th>BC6</th>\n",
       "    </tr>\n",
       "    <tr>\n",
       "      <th>BC7</th>\n",
       "    </tr>\n",
       "    <tr>\n",
       "      <th>BC8</th>\n",
       "    </tr>\n",
       "    <tr>\n",
       "      <th>BC9</th>\n",
       "    </tr>\n",
       "    <tr>\n",
       "      <th>BC10</th>\n",
       "    </tr>\n",
       "    <tr>\n",
       "      <th>BC11</th>\n",
       "    </tr>\n",
       "    <tr>\n",
       "      <th>BC12</th>\n",
       "    </tr>\n",
       "    <tr>\n",
       "      <th>BC13</th>\n",
       "    </tr>\n",
       "    <tr>\n",
       "      <th>BC14</th>\n",
       "    </tr>\n",
       "    <tr>\n",
       "      <th>BC15</th>\n",
       "    </tr>\n",
       "    <tr>\n",
       "      <th>BC16</th>\n",
       "    </tr>\n",
       "    <tr>\n",
       "      <th>BC17</th>\n",
       "    </tr>\n",
       "    <tr>\n",
       "      <th>BC18</th>\n",
       "    </tr>\n",
       "    <tr>\n",
       "      <th>BC19</th>\n",
       "    </tr>\n",
       "    <tr>\n",
       "      <th>BC20</th>\n",
       "    </tr>\n",
       "  </tbody>\n",
       "</table>\n",
       "</div>"
      ],
      "text/plain": [
       "Empty DataFrame\n",
       "Columns: []\n",
       "Index: [BC1, BC2, BC3, BC4, BC5, BC6, BC7, BC8, BC9, BC10, BC11, BC12, BC13, BC14, BC15, BC16, BC17, BC18, BC19, BC20]"
      ]
     },
     "execution_count": 11,
     "metadata": {},
     "output_type": "execute_result"
    }
   ],
   "source": [
    "data.obs #access the 'obs' or observations attribute of the anndata object named 'data', this returns the identifiers for each single-cell barcode (only 20 cells here)"
   ]
  },
  {
   "cell_type": "code",
   "execution_count": 12,
   "metadata": {},
   "outputs": [
    {
     "data": {
      "text/html": [
       "<div>\n",
       "<style scoped>\n",
       "    .dataframe tbody tr th:only-of-type {\n",
       "        vertical-align: middle;\n",
       "    }\n",
       "\n",
       "    .dataframe tbody tr th {\n",
       "        vertical-align: top;\n",
       "    }\n",
       "\n",
       "    .dataframe thead th {\n",
       "        text-align: right;\n",
       "    }\n",
       "</style>\n",
       "<table border=\"1\" class=\"dataframe\">\n",
       "  <thead>\n",
       "    <tr style=\"text-align: right;\">\n",
       "      <th></th>\n",
       "    </tr>\n",
       "    <tr>\n",
       "      <th>Gene</th>\n",
       "    </tr>\n",
       "  </thead>\n",
       "  <tbody>\n",
       "    <tr>\n",
       "      <th>GENE1</th>\n",
       "    </tr>\n",
       "    <tr>\n",
       "      <th>GENE2</th>\n",
       "    </tr>\n",
       "    <tr>\n",
       "      <th>GENE3</th>\n",
       "    </tr>\n",
       "    <tr>\n",
       "      <th>GENE4</th>\n",
       "    </tr>\n",
       "    <tr>\n",
       "      <th>GENE5</th>\n",
       "    </tr>\n",
       "    <tr>\n",
       "      <th>GENE6</th>\n",
       "    </tr>\n",
       "    <tr>\n",
       "      <th>GENE7</th>\n",
       "    </tr>\n",
       "    <tr>\n",
       "      <th>GENE8</th>\n",
       "    </tr>\n",
       "    <tr>\n",
       "      <th>GENE9</th>\n",
       "    </tr>\n",
       "    <tr>\n",
       "      <th>GENE10</th>\n",
       "    </tr>\n",
       "    <tr>\n",
       "      <th>GENE11</th>\n",
       "    </tr>\n",
       "    <tr>\n",
       "      <th>GENE12</th>\n",
       "    </tr>\n",
       "    <tr>\n",
       "      <th>GENE13</th>\n",
       "    </tr>\n",
       "    <tr>\n",
       "      <th>GENE14</th>\n",
       "    </tr>\n",
       "    <tr>\n",
       "      <th>GENE15</th>\n",
       "    </tr>\n",
       "    <tr>\n",
       "      <th>GENE16</th>\n",
       "    </tr>\n",
       "    <tr>\n",
       "      <th>GENE17</th>\n",
       "    </tr>\n",
       "    <tr>\n",
       "      <th>GENE18</th>\n",
       "    </tr>\n",
       "    <tr>\n",
       "      <th>GENE19</th>\n",
       "    </tr>\n",
       "    <tr>\n",
       "      <th>GENE20</th>\n",
       "    </tr>\n",
       "  </tbody>\n",
       "</table>\n",
       "</div>"
      ],
      "text/plain": [
       "Empty DataFrame\n",
       "Columns: []\n",
       "Index: [GENE1, GENE2, GENE3, GENE4, GENE5, GENE6, GENE7, GENE8, GENE9, GENE10, GENE11, GENE12, GENE13, GENE14, GENE15, GENE16, GENE17, GENE18, GENE19, GENE20]"
      ]
     },
     "execution_count": 12,
     "metadata": {},
     "output_type": "execute_result"
    }
   ],
   "source": [
    "data.var  #access the 'var' or variables attribute of the anndata object named 'data', this returns the genes or features of each transcriptome (only 20 genes here)"
   ]
  },
  {
   "cell_type": "code",
   "execution_count": null,
   "metadata": {},
   "outputs": [],
   "source": []
  }
 ],
 "metadata": {
  "kernelspec": {
   "display_name": "qc_pipe",
   "language": "python",
   "name": "qc_pipe"
  },
  "language_info": {
   "codemirror_mode": {
    "name": "ipython",
    "version": 3
   },
   "file_extension": ".py",
   "mimetype": "text/x-python",
   "name": "python",
   "nbconvert_exporter": "python",
   "pygments_lexer": "ipython3",
   "version": "3.8.5"
  }
 },
 "nbformat": 4,
 "nbformat_minor": 4
}
